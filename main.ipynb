{
 "cells": [
  {
   "cell_type": "markdown",
   "metadata": {},
   "source": [
    "# 0. Import libraries and establish connection to GIS server"
   ]
  },
  {
   "cell_type": "code",
   "execution_count": 1,
   "metadata": {},
   "outputs": [],
   "source": [
    "import numpy as np\n",
    "import pandas as pd\n",
    "from io import BytesIO\n",
    "import requests\n",
    "import pandas as pd\n",
    "from arcgis.features import FeatureLayer\n",
    "from arcgis.mapping import WebMap\n",
    "from arcgis.gis import GIS\n",
    "from matplotlib import pyplot as plt\n",
    "%matplotlib inline"
   ]
  },
  {
   "cell_type": "code",
   "execution_count": 2,
   "metadata": {},
   "outputs": [
    {
     "name": "stdout",
     "output_type": "stream",
     "text": [
      "Please sign in to your GIS and paste the code that is obtained below.\n",
      "If a web browser does not automatically open, please navigate to the URL below yourself instead.\n",
      "Opening web browser to navigate to: https://utoronto.maps.arcgis.com/sharing/rest/oauth2/authorize?response_type=code&client_id=NmKYII9ABhRscPtr&redirect_uri=urn%3Aietf%3Awg%3Aoauth%3A2.0%3Aoob&state=ehI3grFcRZQbYmlZfu0P418fCzqUBw&allow_verification=false\n",
      "Successfully logged in as: yelin5_utoronto\n"
     ]
    }
   ],
   "source": [
    "# Establish connection to GIS server using OAuth2.0\n",
    "gis = GIS(\"https://utoronto.maps.arcgis.com\", client_id=\"NmKYII9ABhRscPtr\", verify_cert=False)\n",
    "print(\"Successfully logged in as: \" + gis.properties.user.username)"
   ]
  },
  {
   "cell_type": "markdown",
   "metadata": {},
   "source": [
    "# 1. Get Sports and Recreation Facilities Feature layer and Clean data"
   ]
  },
  {
   "cell_type": "code",
   "execution_count": 3,
   "metadata": {},
   "outputs": [],
   "source": [
    "# Retrieve feature layer of the Open Database of Sports and Recreation Facilities - Canada\n",
    "# url: https://utoronto.maps.arcgis.com/home/item.html?id=4814caea658941bb8596a342cd171269\n",
    "src_url = \"https://services.arcgis.com/wjcPoefzjpzCgffS/ArcGIS/rest/services/Sports_Recreation_Facilities_gdb/FeatureServer/0\"\n",
    "fl = FeatureLayer(url=src_url)"
   ]
  },
  {
   "cell_type": "code",
   "execution_count": 4,
   "metadata": {},
   "outputs": [
    {
     "data": {
      "application/vnd.jupyter.widget-view+json": {
       "model_id": "8c9b66426bdf485093c1f8f842f4a24a",
       "version_major": 2,
       "version_minor": 0
      },
      "text/plain": [
       "MapView(layout=Layout(height='400px', width='100%'))"
      ]
     },
     "metadata": {},
     "output_type": "display_data"
    },
    {
     "data": {
      "text/html": [
       "<div class=\"map-static-img-preview-e6b8286d-986b-4b9a-b193-127018042ece\"><img src=\"\"></img></div>"
      ],
      "text/plain": [
       "<IPython.core.display.HTML object>"
      ]
     },
     "metadata": {},
     "output_type": "display_data"
    },
    {
     "data": {
      "text/html": [
       "<div class=\"map-html-embed-preview-e6b8286d-986b-4b9a-b193-127018042ece\"></div>"
      ],
      "text/plain": [
       "<IPython.core.display.HTML object>"
      ]
     },
     "metadata": {},
     "output_type": "display_data"
    }
   ],
   "source": [
    "# Have a glance at the data\n",
    "map_ca = gis.map('Canada')\n",
    "map_ca.add_layer(fl)\n",
    "map_ca"
   ]
  },
  {
   "cell_type": "code",
   "execution_count": 5,
   "metadata": {},
   "outputs": [
    {
     "data": {
      "text/html": [
       "<div>\n",
       "<style scoped>\n",
       "    .dataframe tbody tr th:only-of-type {\n",
       "        vertical-align: middle;\n",
       "    }\n",
       "\n",
       "    .dataframe tbody tr th {\n",
       "        vertical-align: top;\n",
       "    }\n",
       "\n",
       "    .dataframe thead th {\n",
       "        text-align: right;\n",
       "    }\n",
       "</style>\n",
       "<table border=\"1\" class=\"dataframe\">\n",
       "  <thead>\n",
       "    <tr style=\"text-align: right;\">\n",
       "      <th></th>\n",
       "      <th>CSD_Name</th>\n",
       "      <th>CSD_UID</th>\n",
       "      <th>City</th>\n",
       "      <th>Facility_Name</th>\n",
       "      <th>Index_</th>\n",
       "      <th>Latitude</th>\n",
       "      <th>Longitude</th>\n",
       "      <th>OBJECTID</th>\n",
       "      <th>ODRSF_facility_type</th>\n",
       "      <th>PR_UID</th>\n",
       "      <th>...</th>\n",
       "      <th>Prov_Terr</th>\n",
       "      <th>Provider</th>\n",
       "      <th>SHAPE</th>\n",
       "      <th>Source_Facility_Type</th>\n",
       "      <th>Source_Format_Address</th>\n",
       "      <th>Street_Direction</th>\n",
       "      <th>Street_Name</th>\n",
       "      <th>Street_No</th>\n",
       "      <th>Street_Type</th>\n",
       "      <th>Unit</th>\n",
       "    </tr>\n",
       "  </thead>\n",
       "  <tbody>\n",
       "    <tr>\n",
       "      <th>0</th>\n",
       "      <td>Brantford</td>\n",
       "      <td>3529006</td>\n",
       "      <td>brantford</td>\n",
       "      <td>11Bhe</td>\n",
       "      <td>1</td>\n",
       "      <td>43.167585</td>\n",
       "      <td>-80.242945</td>\n",
       "      <td>1</td>\n",
       "      <td>playground</td>\n",
       "      <td>35</td>\n",
       "      <td>...</td>\n",
       "      <td>on</td>\n",
       "      <td>brantford</td>\n",
       "      <td>{\"x\": -8932603.829472812, \"y\": 5337514.8521930...</td>\n",
       "      <td>..</td>\n",
       "      <td>..</td>\n",
       "      <td>..</td>\n",
       "      <td>..</td>\n",
       "      <td>..</td>\n",
       "      <td>..</td>\n",
       "      <td>..</td>\n",
       "    </tr>\n",
       "    <tr>\n",
       "      <th>1</th>\n",
       "      <td>Kitchener</td>\n",
       "      <td>3530013</td>\n",
       "      <td>kitchener</td>\n",
       "      <td>221 Queen</td>\n",
       "      <td>2</td>\n",
       "      <td>43.447172</td>\n",
       "      <td>-80.491427</td>\n",
       "      <td>2</td>\n",
       "      <td>pool</td>\n",
       "      <td>35</td>\n",
       "      <td>...</td>\n",
       "      <td>on</td>\n",
       "      <td>waterloo region</td>\n",
       "      <td>{\"x\": -8960264.680222288, \"y\": 5380285.6197073...</td>\n",
       "      <td>swimming pool – class b</td>\n",
       "      <td>221 queen st s</td>\n",
       "      <td>s</td>\n",
       "      <td>queen</td>\n",
       "      <td>221</td>\n",
       "      <td>st</td>\n",
       "      <td>..</td>\n",
       "    </tr>\n",
       "    <tr>\n",
       "      <th>2</th>\n",
       "      <td>Rivière-Bleue</td>\n",
       "      <td>2413025</td>\n",
       "      <td>rivière bleue</td>\n",
       "      <td>3 Bondaries Trails</td>\n",
       "      <td>3</td>\n",
       "      <td>47.435830</td>\n",
       "      <td>-69.042971</td>\n",
       "      <td>3</td>\n",
       "      <td>trail</td>\n",
       "      <td>24</td>\n",
       "      <td>...</td>\n",
       "      <td>qc</td>\n",
       "      <td>province of québec</td>\n",
       "      <td>{\"x\": -7685828.374574751, \"y\": 6013505.0459810...</td>\n",
       "      <td>..</td>\n",
       "      <td>32, des pins e.</td>\n",
       "      <td>e</td>\n",
       "      <td>des-pins</td>\n",
       "      <td>32</td>\n",
       "      <td>..</td>\n",
       "      <td>..</td>\n",
       "    </tr>\n",
       "  </tbody>\n",
       "</table>\n",
       "<p>3 rows × 21 columns</p>\n",
       "</div>"
      ],
      "text/plain": [
       "        CSD_Name  CSD_UID           City       Facility_Name  Index_  \\\n",
       "0      Brantford  3529006      brantford               11Bhe       1   \n",
       "1      Kitchener  3530013      kitchener           221 Queen       2   \n",
       "2  Rivière-Bleue  2413025  rivière bleue  3 Bondaries Trails       3   \n",
       "\n",
       "    Latitude  Longitude  OBJECTID ODRSF_facility_type  PR_UID  ... Prov_Terr  \\\n",
       "0  43.167585 -80.242945         1          playground      35  ...        on   \n",
       "1  43.447172 -80.491427         2                pool      35  ...        on   \n",
       "2  47.435830 -69.042971         3               trail      24  ...        qc   \n",
       "\n",
       "             Provider                                              SHAPE  \\\n",
       "0           brantford  {\"x\": -8932603.829472812, \"y\": 5337514.8521930...   \n",
       "1     waterloo region  {\"x\": -8960264.680222288, \"y\": 5380285.6197073...   \n",
       "2  province of québec  {\"x\": -7685828.374574751, \"y\": 6013505.0459810...   \n",
       "\n",
       "      Source_Facility_Type Source_Format_Address Street_Direction Street_Name  \\\n",
       "0                       ..                    ..               ..          ..   \n",
       "1  swimming pool – class b        221 queen st s                s       queen   \n",
       "2                       ..       32, des pins e.                e    des-pins   \n",
       "\n",
       "  Street_No Street_Type Unit  \n",
       "0        ..          ..   ..  \n",
       "1       221          st   ..  \n",
       "2        32          ..   ..  \n",
       "\n",
       "[3 rows x 21 columns]"
      ]
     },
     "execution_count": 5,
     "metadata": {},
     "output_type": "execute_result"
    }
   ],
   "source": [
    "# Turn feature layer into dataframe (SRF abbr. for Sports & Recreation Facilities)\n",
    "# This step takes ~1 min on my Macbook Pro 2018\n",
    "df_SRF = fl.query(as_df=True)\n",
    "df_SRF.head(3)"
   ]
  },
  {
   "cell_type": "code",
   "execution_count": 6,
   "metadata": {},
   "outputs": [
    {
     "name": "stdout",
     "output_type": "stream",
     "text": [
      "<class 'pandas.core.frame.DataFrame'>\n",
      "RangeIndex: 182001 entries, 0 to 182000\n",
      "Data columns (total 21 columns):\n",
      " #   Column                 Non-Null Count   Dtype   \n",
      "---  ------                 --------------   -----   \n",
      " 0   CSD_Name               182001 non-null  object  \n",
      " 1   CSD_UID                182001 non-null  int32   \n",
      " 2   City                   182001 non-null  object  \n",
      " 3   Facility_Name          182001 non-null  object  \n",
      " 4   Index_                 182001 non-null  int32   \n",
      " 5   Latitude               181899 non-null  float64 \n",
      " 6   Longitude              181899 non-null  float64 \n",
      " 7   OBJECTID               182001 non-null  int64   \n",
      " 8   ODRSF_facility_type    182001 non-null  object  \n",
      " 9   PR_UID                 182001 non-null  int32   \n",
      " 10  Postal_Code            182001 non-null  object  \n",
      " 11  Prov_Terr              182001 non-null  object  \n",
      " 12  Provider               182001 non-null  object  \n",
      " 13  SHAPE                  181899 non-null  geometry\n",
      " 14  Source_Facility_Type   182001 non-null  object  \n",
      " 15  Source_Format_Address  182001 non-null  object  \n",
      " 16  Street_Direction       182001 non-null  object  \n",
      " 17  Street_Name            182001 non-null  object  \n",
      " 18  Street_No              182001 non-null  object  \n",
      " 19  Street_Type            182001 non-null  object  \n",
      " 20  Unit                   182001 non-null  object  \n",
      "dtypes: float64(2), geometry(1), int32(3), int64(1), object(14)\n",
      "memory usage: 27.1+ MB\n"
     ]
    }
   ],
   "source": [
    "# Check general info for the dataset\n",
    "df_SRF.info()"
   ]
  },
  {
   "cell_type": "code",
   "execution_count": 7,
   "metadata": {},
   "outputs": [],
   "source": [
    "# Several columns have Null value, drop those rows\n",
    "df_SRF.dropna(axis=0, how=\"any\", inplace=True)"
   ]
  },
  {
   "cell_type": "code",
   "execution_count": 8,
   "metadata": {},
   "outputs": [
    {
     "data": {
      "text/html": [
       "<div>\n",
       "<style scoped>\n",
       "    .dataframe tbody tr th:only-of-type {\n",
       "        vertical-align: middle;\n",
       "    }\n",
       "\n",
       "    .dataframe tbody tr th {\n",
       "        vertical-align: top;\n",
       "    }\n",
       "\n",
       "    .dataframe thead th {\n",
       "        text-align: right;\n",
       "    }\n",
       "</style>\n",
       "<table border=\"1\" class=\"dataframe\">\n",
       "  <thead>\n",
       "    <tr style=\"text-align: right;\">\n",
       "      <th></th>\n",
       "      <th>ODRSF_facility_type</th>\n",
       "      <th>Prov_Terr</th>\n",
       "    </tr>\n",
       "  </thead>\n",
       "  <tbody>\n",
       "    <tr>\n",
       "      <th>0</th>\n",
       "      <td>playground</td>\n",
       "      <td>on</td>\n",
       "    </tr>\n",
       "    <tr>\n",
       "      <th>1</th>\n",
       "      <td>pool</td>\n",
       "      <td>on</td>\n",
       "    </tr>\n",
       "    <tr>\n",
       "      <th>2</th>\n",
       "      <td>trail</td>\n",
       "      <td>qc</td>\n",
       "    </tr>\n",
       "  </tbody>\n",
       "</table>\n",
       "</div>"
      ],
      "text/plain": [
       "  ODRSF_facility_type Prov_Terr\n",
       "0          playground        on\n",
       "1                pool        on\n",
       "2               trail        qc"
      ]
     },
     "execution_count": 8,
     "metadata": {},
     "output_type": "execute_result"
    }
   ],
   "source": [
    "# We only need province and ODRSF_facility_type for the analysis, as we wanna compare the amount of different facilities in different provinces\n",
    "df_SRF = df_SRF[[\"ODRSF_facility_type\", \"Prov_Terr\"]]\n",
    "df_SRF.head(3)"
   ]
  },
  {
   "cell_type": "code",
   "execution_count": 9,
   "metadata": {},
   "outputs": [
    {
     "data": {
      "text/plain": [
       "ODRSF_facility_type    18\n",
       "Prov_Terr              10\n",
       "dtype: int64"
      ]
     },
     "execution_count": 9,
     "metadata": {},
     "output_type": "execute_result"
    }
   ],
   "source": [
    "# Check how many facility type and provinces are there\n",
    "df_SRF.nunique()"
   ]
  },
  {
   "cell_type": "code",
   "execution_count": 10,
   "metadata": {},
   "outputs": [
    {
     "data": {
      "text/plain": [
       "array(['playground', 'pool', 'trail', 'park', 'community centre', 'gym',\n",
       "       'athletic park', 'arena', 'rink', 'skate park', 'splash pad',\n",
       "       'stadium', 'beach', 'marina', 'casino', 'race track',\n",
       "       'miscellaneous', 'sports field'], dtype=object)"
      ]
     },
     "execution_count": 10,
     "metadata": {},
     "output_type": "execute_result"
    }
   ],
   "source": [
    "df_SRF[\"ODRSF_facility_type\"].unique()"
   ]
  },
  {
   "cell_type": "code",
   "execution_count": 11,
   "metadata": {},
   "outputs": [
    {
     "data": {
      "text/plain": [
       "array(['on', 'qc', 'ab', 'mb', 'bc', 'nb', '..', 'ns', 'sk', 'nt'],\n",
       "      dtype=object)"
      ]
     },
     "execution_count": 11,
     "metadata": {},
     "output_type": "execute_result"
    }
   ],
   "source": [
    "df_SRF[\"Prov_Terr\"].unique()"
   ]
  },
  {
   "cell_type": "code",
   "execution_count": 12,
   "metadata": {},
   "outputs": [],
   "source": [
    "# \"..\" does not make sense in province, drop it\n",
    "df_SRF = df_SRF[df_SRF[\"Prov_Terr\"] != \"..\"]"
   ]
  },
  {
   "cell_type": "code",
   "execution_count": 13,
   "metadata": {},
   "outputs": [],
   "source": [
    "# I am particularly interested in going to trail, park and gym, let's check those places!\n",
    "\n",
    "def get_province_facility_quantity(df: pd.DataFrame, facility_type: str) -> pd.DataFrame:\n",
    "    \"\"\"\n",
    "    Count the number of specified facilities in each province\n",
    "\n",
    "    Attributes:\n",
    "    df: pd.DataFrame\n",
    "        Original Dataframe\n",
    "    facility_type: str\n",
    "        specified facility type\n",
    "\n",
    "    Returns\n",
    "    pd.DataFrame\n",
    "        A dataframe contains the number of facility specified in each province\n",
    "    \"\"\"\n",
    "\n",
    "    df_facility = df[df[\"ODRSF_facility_type\"] == facility_type]\n",
    "    return df_facility.groupby(by=\"Prov_Terr\", as_index=False).count().rename(columns={\"ODRSF_facility_type\": facility_type})\n",
    "\n",
    "df_trail = get_province_facility_quantity(df_SRF, \"trail\")\n",
    "df_park = get_province_facility_quantity(df_SRF, \"park\")\n",
    "df_gym = get_province_facility_quantity(df_SRF, \"gym\")\n"
   ]
  },
  {
   "cell_type": "code",
   "execution_count": 14,
   "metadata": {},
   "outputs": [
    {
     "data": {
      "text/html": [
       "<div>\n",
       "<style scoped>\n",
       "    .dataframe tbody tr th:only-of-type {\n",
       "        vertical-align: middle;\n",
       "    }\n",
       "\n",
       "    .dataframe tbody tr th {\n",
       "        vertical-align: top;\n",
       "    }\n",
       "\n",
       "    .dataframe thead th {\n",
       "        text-align: right;\n",
       "    }\n",
       "</style>\n",
       "<table border=\"1\" class=\"dataframe\">\n",
       "  <thead>\n",
       "    <tr style=\"text-align: right;\">\n",
       "      <th></th>\n",
       "      <th>Prov_Terr</th>\n",
       "      <th>trail</th>\n",
       "      <th>park</th>\n",
       "      <th>gym</th>\n",
       "    </tr>\n",
       "  </thead>\n",
       "  <tbody>\n",
       "    <tr>\n",
       "      <th>0</th>\n",
       "      <td>ab</td>\n",
       "      <td>15332.0</td>\n",
       "      <td>4402</td>\n",
       "      <td>29.0</td>\n",
       "    </tr>\n",
       "    <tr>\n",
       "      <th>1</th>\n",
       "      <td>bc</td>\n",
       "      <td>18305.0</td>\n",
       "      <td>3052</td>\n",
       "      <td>27.0</td>\n",
       "    </tr>\n",
       "    <tr>\n",
       "      <th>2</th>\n",
       "      <td>mb</td>\n",
       "      <td>3.0</td>\n",
       "      <td>1255</td>\n",
       "      <td>2.0</td>\n",
       "    </tr>\n",
       "    <tr>\n",
       "      <th>3</th>\n",
       "      <td>nb</td>\n",
       "      <td>3994.0</td>\n",
       "      <td>262</td>\n",
       "      <td>44.0</td>\n",
       "    </tr>\n",
       "    <tr>\n",
       "      <th>4</th>\n",
       "      <td>ns</td>\n",
       "      <td>2741.0</td>\n",
       "      <td>915</td>\n",
       "      <td>0.0</td>\n",
       "    </tr>\n",
       "    <tr>\n",
       "      <th>5</th>\n",
       "      <td>on</td>\n",
       "      <td>95030.0</td>\n",
       "      <td>8915</td>\n",
       "      <td>85.0</td>\n",
       "    </tr>\n",
       "    <tr>\n",
       "      <th>6</th>\n",
       "      <td>qc</td>\n",
       "      <td>135.0</td>\n",
       "      <td>1162</td>\n",
       "      <td>11.0</td>\n",
       "    </tr>\n",
       "    <tr>\n",
       "      <th>7</th>\n",
       "      <td>sk</td>\n",
       "      <td>5345.0</td>\n",
       "      <td>561</td>\n",
       "      <td>0.0</td>\n",
       "    </tr>\n",
       "    <tr>\n",
       "      <th>8</th>\n",
       "      <td>nt</td>\n",
       "      <td>0.0</td>\n",
       "      <td>28</td>\n",
       "      <td>0.0</td>\n",
       "    </tr>\n",
       "  </tbody>\n",
       "</table>\n",
       "</div>"
      ],
      "text/plain": [
       "  Prov_Terr    trail  park   gym\n",
       "0        ab  15332.0  4402  29.0\n",
       "1        bc  18305.0  3052  27.0\n",
       "2        mb      3.0  1255   2.0\n",
       "3        nb   3994.0   262  44.0\n",
       "4        ns   2741.0   915   0.0\n",
       "5        on  95030.0  8915  85.0\n",
       "6        qc    135.0  1162  11.0\n",
       "7        sk   5345.0   561   0.0\n",
       "8        nt      0.0    28   0.0"
      ]
     },
     "execution_count": 14,
     "metadata": {},
     "output_type": "execute_result"
    }
   ],
   "source": [
    "# Now lets merge the three dataframes into one!\n",
    "from functools import reduce\n",
    "\n",
    "data_frames = [df_trail, df_park, df_gym]\n",
    "df_merged_facility = reduce(lambda left, right: pd.merge(left, right, on=['Prov_Terr'], how=\"outer\"), data_frames)\n",
    "df_merged_facility.fillna(0, inplace=True)\n",
    "df_merged_facility"
   ]
  },
  {
   "cell_type": "markdown",
   "metadata": {},
   "source": [
    "# 2. Load Canada Province Boundry map and merge it with the facility dataframe"
   ]
  },
  {
   "cell_type": "code",
   "execution_count": 15,
   "metadata": {},
   "outputs": [
    {
     "data": {
      "text/html": [
       "<div>\n",
       "<style scoped>\n",
       "    .dataframe tbody tr th:only-of-type {\n",
       "        vertical-align: middle;\n",
       "    }\n",
       "\n",
       "    .dataframe tbody tr th {\n",
       "        vertical-align: top;\n",
       "    }\n",
       "\n",
       "    .dataframe thead th {\n",
       "        text-align: right;\n",
       "    }\n",
       "</style>\n",
       "<table border=\"1\" class=\"dataframe\">\n",
       "  <thead>\n",
       "    <tr style=\"text-align: right;\">\n",
       "      <th></th>\n",
       "      <th>FID</th>\n",
       "      <th>postal</th>\n",
       "      <th>Nom_Fr</th>\n",
       "      <th>Name_EN</th>\n",
       "      <th>Shape_Leng</th>\n",
       "      <th>Shape_Area</th>\n",
       "      <th>Shape__Area</th>\n",
       "      <th>Shape__Length</th>\n",
       "      <th>SHAPE</th>\n",
       "    </tr>\n",
       "  </thead>\n",
       "  <tbody>\n",
       "    <tr>\n",
       "      <th>0</th>\n",
       "      <td>1</td>\n",
       "      <td>MB</td>\n",
       "      <td>Manitoba</td>\n",
       "      <td>Manitoba</td>\n",
       "      <td>7.174885e+06</td>\n",
       "      <td>1.987391e+12</td>\n",
       "      <td>1.987391e+12</td>\n",
       "      <td>7.174885e+06</td>\n",
       "      <td>{\"rings\": [[[-9901534.7054, 7730176.5012], [-9...</td>\n",
       "    </tr>\n",
       "    <tr>\n",
       "      <th>1</th>\n",
       "      <td>2</td>\n",
       "      <td>SK</td>\n",
       "      <td>Saskatchewan</td>\n",
       "      <td>Saskatchewan</td>\n",
       "      <td>6.105909e+06</td>\n",
       "      <td>1.936261e+12</td>\n",
       "      <td>1.936261e+12</td>\n",
       "      <td>6.105909e+06</td>\n",
       "      <td>{\"rings\": [[[-11283826.6741, 6273617.666], [-1...</td>\n",
       "    </tr>\n",
       "    <tr>\n",
       "      <th>2</th>\n",
       "      <td>3</td>\n",
       "      <td>AB</td>\n",
       "      <td>Alberta</td>\n",
       "      <td>Alberta</td>\n",
       "      <td>6.480084e+06</td>\n",
       "      <td>2.046155e+12</td>\n",
       "      <td>2.046155e+12</td>\n",
       "      <td>6.480084e+06</td>\n",
       "      <td>{\"rings\": [[[-12245068.411, 6273608.8989], [-1...</td>\n",
       "    </tr>\n",
       "    <tr>\n",
       "      <th>3</th>\n",
       "      <td>4</td>\n",
       "      <td>BC</td>\n",
       "      <td>Colombie-Britannique</td>\n",
       "      <td>British Columbia</td>\n",
       "      <td>2.995914e+07</td>\n",
       "      <td>2.864108e+12</td>\n",
       "      <td>2.864108e+12</td>\n",
       "      <td>2.995914e+07</td>\n",
       "      <td>{\"rings\": [[[-13718912.1255, 6177039.9907], [-...</td>\n",
       "    </tr>\n",
       "    <tr>\n",
       "      <th>4</th>\n",
       "      <td>5</td>\n",
       "      <td>NU</td>\n",
       "      <td>Nunavut</td>\n",
       "      <td>Nunavut</td>\n",
       "      <td>2.710973e+08</td>\n",
       "      <td>2.270183e+13</td>\n",
       "      <td>2.270183e+13</td>\n",
       "      <td>2.710973e+08</td>\n",
       "      <td>{\"rings\": [[[-8802092.9206, 6735898.7062], [-8...</td>\n",
       "    </tr>\n",
       "    <tr>\n",
       "      <th>5</th>\n",
       "      <td>6</td>\n",
       "      <td>NT</td>\n",
       "      <td>Territoires du Nord-Ouest</td>\n",
       "      <td>Northwest Terrritories</td>\n",
       "      <td>5.378878e+07</td>\n",
       "      <td>8.759245e+12</td>\n",
       "      <td>8.759245e+12</td>\n",
       "      <td>5.378878e+07</td>\n",
       "      <td>{\"rings\": [[[-15146891.1403, 10790828.9769], [...</td>\n",
       "    </tr>\n",
       "    <tr>\n",
       "      <th>6</th>\n",
       "      <td>7</td>\n",
       "      <td>YT</td>\n",
       "      <td>Yukon</td>\n",
       "      <td>Yukon</td>\n",
       "      <td>9.703122e+06</td>\n",
       "      <td>2.472298e+12</td>\n",
       "      <td>2.472298e+12</td>\n",
       "      <td>9.703122e+06</td>\n",
       "      <td>{\"rings\": [[[-15683844.2735, 10948443.6885], [...</td>\n",
       "    </tr>\n",
       "    <tr>\n",
       "      <th>7</th>\n",
       "      <td>8</td>\n",
       "      <td>ON</td>\n",
       "      <td>Ontario</td>\n",
       "      <td>Ontario</td>\n",
       "      <td>9.645718e+06</td>\n",
       "      <td>2.634173e+12</td>\n",
       "      <td>2.634173e+12</td>\n",
       "      <td>9.645718e+06</td>\n",
       "      <td>{\"rings\": [[[-8852214.9108, 6615242.5327], [-8...</td>\n",
       "    </tr>\n",
       "    <tr>\n",
       "      <th>8</th>\n",
       "      <td>9</td>\n",
       "      <td>QC</td>\n",
       "      <td>Québec</td>\n",
       "      <td>Québec</td>\n",
       "      <td>2.857808e+07</td>\n",
       "      <td>4.296852e+12</td>\n",
       "      <td>4.296852e+12</td>\n",
       "      <td>2.857808e+07</td>\n",
       "      <td>{\"rings\": [[[-8230747.0837, 5670496.6584], [-8...</td>\n",
       "    </tr>\n",
       "    <tr>\n",
       "      <th>9</th>\n",
       "      <td>10</td>\n",
       "      <td>NB</td>\n",
       "      <td>Nouveau-Brunswick</td>\n",
       "      <td>New Brunswick</td>\n",
       "      <td>3.044798e+06</td>\n",
       "      <td>1.541619e+11</td>\n",
       "      <td>1.541619e+11</td>\n",
       "      <td>3.044798e+06</td>\n",
       "      <td>{\"rings\": [[[-7432741.5151, 5589409.0255], [-7...</td>\n",
       "    </tr>\n",
       "    <tr>\n",
       "      <th>10</th>\n",
       "      <td>11</td>\n",
       "      <td>NS</td>\n",
       "      <td>Nouvelle-Écosse</td>\n",
       "      <td>Nova Scotia</td>\n",
       "      <td>5.853202e+06</td>\n",
       "      <td>1.108453e+11</td>\n",
       "      <td>1.108453e+11</td>\n",
       "      <td>5.853202e+06</td>\n",
       "      <td>{\"rings\": [[[-7303736.9229, 5377372.1386], [-7...</td>\n",
       "    </tr>\n",
       "    <tr>\n",
       "      <th>11</th>\n",
       "      <td>12</td>\n",
       "      <td>NL</td>\n",
       "      <td>Terre-Neuve-et-Labrador</td>\n",
       "      <td>Newfoundland &amp; Labrador</td>\n",
       "      <td>2.939165e+07</td>\n",
       "      <td>1.113019e+12</td>\n",
       "      <td>1.113019e+12</td>\n",
       "      <td>2.939165e+07</td>\n",
       "      <td>{\"rings\": [[[-6100127.7013, 5981762.7391], [-6...</td>\n",
       "    </tr>\n",
       "    <tr>\n",
       "      <th>12</th>\n",
       "      <td>13</td>\n",
       "      <td>PE</td>\n",
       "      <td>|Île du Prince-Édouard</td>\n",
       "      <td>Prince Edward Island</td>\n",
       "      <td>1.334824e+06</td>\n",
       "      <td>1.205146e+10</td>\n",
       "      <td>1.205146e+10</td>\n",
       "      <td>1.334824e+06</td>\n",
       "      <td>{\"rings\": [[[-6902255.6784, 5855029.0641], [-6...</td>\n",
       "    </tr>\n",
       "  </tbody>\n",
       "</table>\n",
       "</div>"
      ],
      "text/plain": [
       "    FID postal                     Nom_Fr                  Name_EN  \\\n",
       "0     1     MB                   Manitoba                 Manitoba   \n",
       "1     2     SK               Saskatchewan             Saskatchewan   \n",
       "2     3     AB                    Alberta                  Alberta   \n",
       "3     4     BC       Colombie-Britannique         British Columbia   \n",
       "4     5     NU                    Nunavut                  Nunavut   \n",
       "5     6     NT  Territoires du Nord-Ouest   Northwest Terrritories   \n",
       "6     7     YT                      Yukon                    Yukon   \n",
       "7     8     ON                    Ontario                  Ontario   \n",
       "8     9     QC                     Québec                   Québec   \n",
       "9    10     NB          Nouveau-Brunswick            New Brunswick   \n",
       "10   11     NS            Nouvelle-Écosse              Nova Scotia   \n",
       "11   12     NL    Terre-Neuve-et-Labrador  Newfoundland & Labrador   \n",
       "12   13     PE     |Île du Prince-Édouard     Prince Edward Island   \n",
       "\n",
       "      Shape_Leng    Shape_Area   Shape__Area  Shape__Length  \\\n",
       "0   7.174885e+06  1.987391e+12  1.987391e+12   7.174885e+06   \n",
       "1   6.105909e+06  1.936261e+12  1.936261e+12   6.105909e+06   \n",
       "2   6.480084e+06  2.046155e+12  2.046155e+12   6.480084e+06   \n",
       "3   2.995914e+07  2.864108e+12  2.864108e+12   2.995914e+07   \n",
       "4   2.710973e+08  2.270183e+13  2.270183e+13   2.710973e+08   \n",
       "5   5.378878e+07  8.759245e+12  8.759245e+12   5.378878e+07   \n",
       "6   9.703122e+06  2.472298e+12  2.472298e+12   9.703122e+06   \n",
       "7   9.645718e+06  2.634173e+12  2.634173e+12   9.645718e+06   \n",
       "8   2.857808e+07  4.296852e+12  4.296852e+12   2.857808e+07   \n",
       "9   3.044798e+06  1.541619e+11  1.541619e+11   3.044798e+06   \n",
       "10  5.853202e+06  1.108453e+11  1.108453e+11   5.853202e+06   \n",
       "11  2.939165e+07  1.113019e+12  1.113019e+12   2.939165e+07   \n",
       "12  1.334824e+06  1.205146e+10  1.205146e+10   1.334824e+06   \n",
       "\n",
       "                                                SHAPE  \n",
       "0   {\"rings\": [[[-9901534.7054, 7730176.5012], [-9...  \n",
       "1   {\"rings\": [[[-11283826.6741, 6273617.666], [-1...  \n",
       "2   {\"rings\": [[[-12245068.411, 6273608.8989], [-1...  \n",
       "3   {\"rings\": [[[-13718912.1255, 6177039.9907], [-...  \n",
       "4   {\"rings\": [[[-8802092.9206, 6735898.7062], [-8...  \n",
       "5   {\"rings\": [[[-15146891.1403, 10790828.9769], [...  \n",
       "6   {\"rings\": [[[-15683844.2735, 10948443.6885], [...  \n",
       "7   {\"rings\": [[[-8852214.9108, 6615242.5327], [-8...  \n",
       "8   {\"rings\": [[[-8230747.0837, 5670496.6584], [-8...  \n",
       "9   {\"rings\": [[[-7432741.5151, 5589409.0255], [-7...  \n",
       "10  {\"rings\": [[[-7303736.9229, 5377372.1386], [-7...  \n",
       "11  {\"rings\": [[[-6100127.7013, 5981762.7391], [-6...  \n",
       "12  {\"rings\": [[[-6902255.6784, 5855029.0641], [-6...  "
      ]
     },
     "execution_count": 15,
     "metadata": {},
     "output_type": "execute_result"
    }
   ],
   "source": [
    "# Try another api to load the map\n",
    "ca_provinces_item = gis.content.get('d3fef65386df4e63b02d6e23bb98a1ee')\n",
    "ca_provinces_item\n",
    "flayer_ca_provinces = ca_provinces_item.layers[0]\n",
    "df_ca_provinces = flayer_ca_provinces.query(as_df=True)\n",
    "df_ca_provinces"
   ]
  },
  {
   "cell_type": "code",
   "execution_count": 16,
   "metadata": {},
   "outputs": [
    {
     "data": {
      "text/html": [
       "<div>\n",
       "<style scoped>\n",
       "    .dataframe tbody tr th:only-of-type {\n",
       "        vertical-align: middle;\n",
       "    }\n",
       "\n",
       "    .dataframe tbody tr th {\n",
       "        vertical-align: top;\n",
       "    }\n",
       "\n",
       "    .dataframe thead th {\n",
       "        text-align: right;\n",
       "    }\n",
       "</style>\n",
       "<table border=\"1\" class=\"dataframe\">\n",
       "  <thead>\n",
       "    <tr style=\"text-align: right;\">\n",
       "      <th></th>\n",
       "      <th>postal</th>\n",
       "      <th>Name_EN</th>\n",
       "      <th>SHAPE</th>\n",
       "    </tr>\n",
       "  </thead>\n",
       "  <tbody>\n",
       "    <tr>\n",
       "      <th>0</th>\n",
       "      <td>MB</td>\n",
       "      <td>Manitoba</td>\n",
       "      <td>{\"rings\": [[[-9901534.7054, 7730176.5012], [-9...</td>\n",
       "    </tr>\n",
       "    <tr>\n",
       "      <th>1</th>\n",
       "      <td>SK</td>\n",
       "      <td>Saskatchewan</td>\n",
       "      <td>{\"rings\": [[[-11283826.6741, 6273617.666], [-1...</td>\n",
       "    </tr>\n",
       "    <tr>\n",
       "      <th>2</th>\n",
       "      <td>AB</td>\n",
       "      <td>Alberta</td>\n",
       "      <td>{\"rings\": [[[-12245068.411, 6273608.8989], [-1...</td>\n",
       "    </tr>\n",
       "    <tr>\n",
       "      <th>3</th>\n",
       "      <td>BC</td>\n",
       "      <td>British Columbia</td>\n",
       "      <td>{\"rings\": [[[-13718912.1255, 6177039.9907], [-...</td>\n",
       "    </tr>\n",
       "    <tr>\n",
       "      <th>4</th>\n",
       "      <td>NU</td>\n",
       "      <td>Nunavut</td>\n",
       "      <td>{\"rings\": [[[-8802092.9206, 6735898.7062], [-8...</td>\n",
       "    </tr>\n",
       "    <tr>\n",
       "      <th>5</th>\n",
       "      <td>NT</td>\n",
       "      <td>Northwest Terrritories</td>\n",
       "      <td>{\"rings\": [[[-15146891.1403, 10790828.9769], [...</td>\n",
       "    </tr>\n",
       "    <tr>\n",
       "      <th>6</th>\n",
       "      <td>YT</td>\n",
       "      <td>Yukon</td>\n",
       "      <td>{\"rings\": [[[-15683844.2735, 10948443.6885], [...</td>\n",
       "    </tr>\n",
       "    <tr>\n",
       "      <th>7</th>\n",
       "      <td>ON</td>\n",
       "      <td>Ontario</td>\n",
       "      <td>{\"rings\": [[[-8852214.9108, 6615242.5327], [-8...</td>\n",
       "    </tr>\n",
       "    <tr>\n",
       "      <th>8</th>\n",
       "      <td>QC</td>\n",
       "      <td>Québec</td>\n",
       "      <td>{\"rings\": [[[-8230747.0837, 5670496.6584], [-8...</td>\n",
       "    </tr>\n",
       "    <tr>\n",
       "      <th>9</th>\n",
       "      <td>NB</td>\n",
       "      <td>New Brunswick</td>\n",
       "      <td>{\"rings\": [[[-7432741.5151, 5589409.0255], [-7...</td>\n",
       "    </tr>\n",
       "    <tr>\n",
       "      <th>10</th>\n",
       "      <td>NS</td>\n",
       "      <td>Nova Scotia</td>\n",
       "      <td>{\"rings\": [[[-7303736.9229, 5377372.1386], [-7...</td>\n",
       "    </tr>\n",
       "    <tr>\n",
       "      <th>11</th>\n",
       "      <td>NL</td>\n",
       "      <td>Newfoundland &amp; Labrador</td>\n",
       "      <td>{\"rings\": [[[-6100127.7013, 5981762.7391], [-6...</td>\n",
       "    </tr>\n",
       "    <tr>\n",
       "      <th>12</th>\n",
       "      <td>PE</td>\n",
       "      <td>Prince Edward Island</td>\n",
       "      <td>{\"rings\": [[[-6902255.6784, 5855029.0641], [-6...</td>\n",
       "    </tr>\n",
       "  </tbody>\n",
       "</table>\n",
       "</div>"
      ],
      "text/plain": [
       "   postal                  Name_EN  \\\n",
       "0      MB                 Manitoba   \n",
       "1      SK             Saskatchewan   \n",
       "2      AB                  Alberta   \n",
       "3      BC         British Columbia   \n",
       "4      NU                  Nunavut   \n",
       "5      NT   Northwest Terrritories   \n",
       "6      YT                    Yukon   \n",
       "7      ON                  Ontario   \n",
       "8      QC                   Québec   \n",
       "9      NB            New Brunswick   \n",
       "10     NS              Nova Scotia   \n",
       "11     NL  Newfoundland & Labrador   \n",
       "12     PE     Prince Edward Island   \n",
       "\n",
       "                                                SHAPE  \n",
       "0   {\"rings\": [[[-9901534.7054, 7730176.5012], [-9...  \n",
       "1   {\"rings\": [[[-11283826.6741, 6273617.666], [-1...  \n",
       "2   {\"rings\": [[[-12245068.411, 6273608.8989], [-1...  \n",
       "3   {\"rings\": [[[-13718912.1255, 6177039.9907], [-...  \n",
       "4   {\"rings\": [[[-8802092.9206, 6735898.7062], [-8...  \n",
       "5   {\"rings\": [[[-15146891.1403, 10790828.9769], [...  \n",
       "6   {\"rings\": [[[-15683844.2735, 10948443.6885], [...  \n",
       "7   {\"rings\": [[[-8852214.9108, 6615242.5327], [-8...  \n",
       "8   {\"rings\": [[[-8230747.0837, 5670496.6584], [-8...  \n",
       "9   {\"rings\": [[[-7432741.5151, 5589409.0255], [-7...  \n",
       "10  {\"rings\": [[[-7303736.9229, 5377372.1386], [-7...  \n",
       "11  {\"rings\": [[[-6100127.7013, 5981762.7391], [-6...  \n",
       "12  {\"rings\": [[[-6902255.6784, 5855029.0641], [-6...  "
      ]
     },
     "execution_count": 16,
     "metadata": {},
     "output_type": "execute_result"
    }
   ],
   "source": [
    "# We only keep postal, Name_En and SHAPE\n",
    "df_ca_provinces = df_ca_provinces[[\"postal\", \"Name_EN\", \"SHAPE\"]]\n",
    "df_ca_provinces"
   ]
  },
  {
   "cell_type": "code",
   "execution_count": 17,
   "metadata": {},
   "outputs": [
    {
     "data": {
      "text/html": [
       "<div>\n",
       "<style scoped>\n",
       "    .dataframe tbody tr th:only-of-type {\n",
       "        vertical-align: middle;\n",
       "    }\n",
       "\n",
       "    .dataframe tbody tr th {\n",
       "        vertical-align: top;\n",
       "    }\n",
       "\n",
       "    .dataframe thead th {\n",
       "        text-align: right;\n",
       "    }\n",
       "</style>\n",
       "<table border=\"1\" class=\"dataframe\">\n",
       "  <thead>\n",
       "    <tr style=\"text-align: right;\">\n",
       "      <th></th>\n",
       "      <th>postal</th>\n",
       "      <th>Name_EN</th>\n",
       "      <th>SHAPE</th>\n",
       "      <th>Prov_Terr</th>\n",
       "      <th>trail</th>\n",
       "      <th>park</th>\n",
       "      <th>gym</th>\n",
       "    </tr>\n",
       "  </thead>\n",
       "  <tbody>\n",
       "    <tr>\n",
       "      <th>0</th>\n",
       "      <td>MB</td>\n",
       "      <td>Manitoba</td>\n",
       "      <td>{'rings': [[[-9901534.7054, 7730176.5012], [-9...</td>\n",
       "      <td>MB</td>\n",
       "      <td>3.0</td>\n",
       "      <td>1255</td>\n",
       "      <td>2.0</td>\n",
       "    </tr>\n",
       "    <tr>\n",
       "      <th>1</th>\n",
       "      <td>SK</td>\n",
       "      <td>Saskatchewan</td>\n",
       "      <td>{'rings': [[[-11283826.6741, 6273617.666], [-1...</td>\n",
       "      <td>SK</td>\n",
       "      <td>5345.0</td>\n",
       "      <td>561</td>\n",
       "      <td>0.0</td>\n",
       "    </tr>\n",
       "    <tr>\n",
       "      <th>2</th>\n",
       "      <td>AB</td>\n",
       "      <td>Alberta</td>\n",
       "      <td>{'rings': [[[-12245068.411, 6273608.8989], [-1...</td>\n",
       "      <td>AB</td>\n",
       "      <td>15332.0</td>\n",
       "      <td>4402</td>\n",
       "      <td>29.0</td>\n",
       "    </tr>\n",
       "    <tr>\n",
       "      <th>3</th>\n",
       "      <td>BC</td>\n",
       "      <td>British Columbia</td>\n",
       "      <td>{'rings': [[[-13718912.1255, 6177039.9907], [-...</td>\n",
       "      <td>BC</td>\n",
       "      <td>18305.0</td>\n",
       "      <td>3052</td>\n",
       "      <td>27.0</td>\n",
       "    </tr>\n",
       "    <tr>\n",
       "      <th>4</th>\n",
       "      <td>NT</td>\n",
       "      <td>Northwest Terrritories</td>\n",
       "      <td>{'rings': [[[-15146891.1403, 10790828.9769], [...</td>\n",
       "      <td>NT</td>\n",
       "      <td>0.0</td>\n",
       "      <td>28</td>\n",
       "      <td>0.0</td>\n",
       "    </tr>\n",
       "    <tr>\n",
       "      <th>5</th>\n",
       "      <td>ON</td>\n",
       "      <td>Ontario</td>\n",
       "      <td>{'rings': [[[-8852214.9108, 6615242.5327], [-8...</td>\n",
       "      <td>ON</td>\n",
       "      <td>95030.0</td>\n",
       "      <td>8915</td>\n",
       "      <td>85.0</td>\n",
       "    </tr>\n",
       "    <tr>\n",
       "      <th>6</th>\n",
       "      <td>QC</td>\n",
       "      <td>Québec</td>\n",
       "      <td>{'rings': [[[-8230747.0837, 5670496.6584], [-8...</td>\n",
       "      <td>QC</td>\n",
       "      <td>135.0</td>\n",
       "      <td>1162</td>\n",
       "      <td>11.0</td>\n",
       "    </tr>\n",
       "    <tr>\n",
       "      <th>7</th>\n",
       "      <td>NB</td>\n",
       "      <td>New Brunswick</td>\n",
       "      <td>{'rings': [[[-7432741.5151, 5589409.0255], [-7...</td>\n",
       "      <td>NB</td>\n",
       "      <td>3994.0</td>\n",
       "      <td>262</td>\n",
       "      <td>44.0</td>\n",
       "    </tr>\n",
       "    <tr>\n",
       "      <th>8</th>\n",
       "      <td>NS</td>\n",
       "      <td>Nova Scotia</td>\n",
       "      <td>{'rings': [[[-7303736.9229, 5377372.1386], [-7...</td>\n",
       "      <td>NS</td>\n",
       "      <td>2741.0</td>\n",
       "      <td>915</td>\n",
       "      <td>0.0</td>\n",
       "    </tr>\n",
       "  </tbody>\n",
       "</table>\n",
       "</div>"
      ],
      "text/plain": [
       "  postal                 Name_EN  \\\n",
       "0     MB                Manitoba   \n",
       "1     SK            Saskatchewan   \n",
       "2     AB                 Alberta   \n",
       "3     BC        British Columbia   \n",
       "4     NT  Northwest Terrritories   \n",
       "5     ON                 Ontario   \n",
       "6     QC                  Québec   \n",
       "7     NB           New Brunswick   \n",
       "8     NS             Nova Scotia   \n",
       "\n",
       "                                               SHAPE Prov_Terr    trail  park  \\\n",
       "0  {'rings': [[[-9901534.7054, 7730176.5012], [-9...        MB      3.0  1255   \n",
       "1  {'rings': [[[-11283826.6741, 6273617.666], [-1...        SK   5345.0   561   \n",
       "2  {'rings': [[[-12245068.411, 6273608.8989], [-1...        AB  15332.0  4402   \n",
       "3  {'rings': [[[-13718912.1255, 6177039.9907], [-...        BC  18305.0  3052   \n",
       "4  {'rings': [[[-15146891.1403, 10790828.9769], [...        NT      0.0    28   \n",
       "5  {'rings': [[[-8852214.9108, 6615242.5327], [-8...        ON  95030.0  8915   \n",
       "6  {'rings': [[[-8230747.0837, 5670496.6584], [-8...        QC    135.0  1162   \n",
       "7  {'rings': [[[-7432741.5151, 5589409.0255], [-7...        NB   3994.0   262   \n",
       "8  {'rings': [[[-7303736.9229, 5377372.1386], [-7...        NS   2741.0   915   \n",
       "\n",
       "    gym  \n",
       "0   2.0  \n",
       "1   0.0  \n",
       "2  29.0  \n",
       "3  27.0  \n",
       "4   0.0  \n",
       "5  85.0  \n",
       "6  11.0  \n",
       "7  44.0  \n",
       "8   0.0  "
      ]
     },
     "execution_count": 17,
     "metadata": {},
     "output_type": "execute_result"
    }
   ],
   "source": [
    "# We can now join the two Tables! Just after applying uppercase to the Prov_Terr\n",
    "df_merged_facility['Prov_Terr'] = df_merged_facility['Prov_Terr'].str.upper()\n",
    "\n",
    "df_final = pd.merge(left=df_ca_provinces, right=df_merged_facility, how=\"inner\", left_on=\"postal\", right_on=\"Prov_Terr\")\n",
    "df_final"
   ]
  },
  {
   "cell_type": "markdown",
   "metadata": {},
   "source": [
    "# 3. Now, it's time for VISUALIZATION!!!"
   ]
  },
  {
   "cell_type": "code",
   "execution_count": 18,
   "metadata": {},
   "outputs": [
    {
     "data": {
      "application/vnd.jupyter.widget-view+json": {
       "model_id": "4df2d3dbd3ce4144b28624c319e96b38",
       "version_major": 2,
       "version_minor": 0
      },
      "text/plain": [
       "MapView(layout=Layout(height='400px', width='100%'))"
      ]
     },
     "metadata": {},
     "output_type": "display_data"
    },
    {
     "data": {
      "text/html": [
       "<div class=\"map-static-img-preview-e389b845-3987-4a2c-85ea-e39114e12448\"><img src=\"\"></img></div>"
      ],
      "text/plain": [
       "<IPython.core.display.HTML object>"
      ]
     },
     "metadata": {},
     "output_type": "display_data"
    },
    {
     "data": {
      "text/html": [
       "<div class=\"map-html-embed-preview-e389b845-3987-4a2c-85ea-e39114e12448\"></div>"
      ],
      "text/plain": [
       "<IPython.core.display.HTML object>"
      ]
     },
     "metadata": {},
     "output_type": "display_data"
    }
   ],
   "source": [
    "# 3.1 Visualize the number of parks in each CA province\n",
    "map_park = gis.map('Canada')\n",
    "map_park.clear_graphics()\n",
    "df_final.spatial.plot(  kind='map', map_widget=map_park,\n",
    "                                  renderer_type='c',  # for class breaks renderer\n",
    "                                  method='esriClassifyNaturalBreaks',  # classification algorithm\n",
    "                                  class_count=3,  # choose the number of classes\n",
    "                                  col='park',  # numeric column to classify\n",
    "                                  cmap='inferno',  # color map to pick colors from for each class\n",
    "                                  alpha=0.7  # specify opacity\n",
    "                                 )\n",
    "map_park\n"
   ]
  },
  {
   "cell_type": "code",
   "execution_count": 19,
   "metadata": {},
   "outputs": [
    {
     "data": {
      "application/vnd.jupyter.widget-view+json": {
       "model_id": "185c4b78a70d47428d49e61c4a090656",
       "version_major": 2,
       "version_minor": 0
      },
      "text/plain": [
       "MapView(layout=Layout(height='400px', width='100%'))"
      ]
     },
     "metadata": {},
     "output_type": "display_data"
    },
    {
     "data": {
      "text/html": [
       "<div class=\"map-static-img-preview-96d056b8-c98b-4259-a4f1-6b9474c1f7cd\"><img src=\"\"></img></div>"
      ],
      "text/plain": [
       "<IPython.core.display.HTML object>"
      ]
     },
     "metadata": {},
     "output_type": "display_data"
    },
    {
     "data": {
      "text/html": [
       "<div class=\"map-html-embed-preview-96d056b8-c98b-4259-a4f1-6b9474c1f7cd\"></div>"
      ],
      "text/plain": [
       "<IPython.core.display.HTML object>"
      ]
     },
     "metadata": {},
     "output_type": "display_data"
    }
   ],
   "source": [
    "# 3.2 Visualize the number of trails in each CA province\n",
    "map_trail = gis.map('Canada')\n",
    "map_trail.clear_graphics()\n",
    "df_final.spatial.plot(  kind='map', map_widget=map_trail,\n",
    "                                  renderer_type='c',  # for class breaks renderer\n",
    "                                  method='esriClassifyNaturalBreaks',  # classification algorithm\n",
    "                                  class_count=3,  # choose the number of classes\n",
    "                                  col='trail',  # numeric column to classify\n",
    "                                  cmap='inferno',  # color map to pick colors from for each class\n",
    "                                  alpha=0.7  # specify opacity\n",
    "                                 )\n",
    "map_trail"
   ]
  },
  {
   "cell_type": "code",
   "execution_count": null,
   "metadata": {},
   "outputs": [],
   "source": []
  }
 ],
 "metadata": {
  "kernelspec": {
   "display_name": "Python 3.9.13 ('ArcGIS')",
   "language": "python",
   "name": "python3"
  },
  "language_info": {
   "codemirror_mode": {
    "name": "ipython",
    "version": 3
   },
   "file_extension": ".py",
   "mimetype": "text/x-python",
   "name": "python",
   "nbconvert_exporter": "python",
   "pygments_lexer": "ipython3",
   "version": "3.9.13"
  },
  "orig_nbformat": 4,
  "vscode": {
   "interpreter": {
    "hash": "1b80d9ada61a30ec7a7b66b271e2d78bc08dc7fffe0058f31943f6fd1cfeeb18"
   }
  }
 },
 "nbformat": 4,
 "nbformat_minor": 2
}
